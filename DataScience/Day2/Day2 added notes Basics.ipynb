{
  "nbformat": 4,
  "nbformat_minor": 0,
  "metadata": {
    "kernelspec": {
      "display_name": "Python 3",
      "language": "python",
      "name": "python3"
    },
    "language_info": {
      "codemirror_mode": {
        "name": "ipython",
        "version": 3
      },
      "file_extension": ".py",
      "mimetype": "text/x-python",
      "name": "python",
      "nbconvert_exporter": "python",
      "pygments_lexer": "ipython3",
      "version": "3.8.3"
    },
    "colab": {
      "name": "LU Data Science Essentials B1 - Basics.ipynb",
      "provenance": []
    }
  },
  "cells": [
    {
      "cell_type": "code",
      "metadata": {
        "id": "fyUy6A1Ky2KX",
        "outputId": "4426d608-75fd-4cb6-bae7-b12060f992a1"
      },
      "source": [
        "1+1"
      ],
      "execution_count": null,
      "outputs": [
        {
          "output_type": "execute_result",
          "data": {
            "text/plain": [
              "2"
            ]
          },
          "metadata": {
            "tags": []
          },
          "execution_count": 1
        }
      ]
    },
    {
      "cell_type": "code",
      "metadata": {
        "id": "oDXgD-rjy2K0",
        "outputId": "1c0883fc-d70d-45a5-f74b-24febc4b6879"
      },
      "source": [
        "2*9"
      ],
      "execution_count": null,
      "outputs": [
        {
          "output_type": "execute_result",
          "data": {
            "text/plain": [
              "18"
            ]
          },
          "metadata": {
            "tags": []
          },
          "execution_count": 2
        }
      ]
    },
    {
      "cell_type": "code",
      "metadata": {
        "id": "gvM5WOWPy2LC",
        "outputId": "c3be3218-0961-4f16-f2b2-c55fe105d906"
      },
      "source": [
        "2**3"
      ],
      "execution_count": null,
      "outputs": [
        {
          "output_type": "execute_result",
          "data": {
            "text/plain": [
              "8"
            ]
          },
          "metadata": {
            "tags": []
          },
          "execution_count": 3
        }
      ]
    },
    {
      "cell_type": "code",
      "metadata": {
        "id": "CXzVp4tgy2LT",
        "outputId": "d6d4fe7a-e701-4cce-b731-b64b2eca1e04"
      },
      "source": [
        "print(\"Hi LetsUpgrade\")"
      ],
      "execution_count": null,
      "outputs": [
        {
          "output_type": "stream",
          "text": [
            "Hi LetsUpgrade\n"
          ],
          "name": "stdout"
        }
      ]
    },
    {
      "cell_type": "code",
      "metadata": {
        "id": "SJRZ3XWiy2Lg",
        "outputId": "c3744abb-10f9-4083-adbe-37430a3abb24"
      },
      "source": [
        "print(\"Hi Darshan\")"
      ],
      "execution_count": null,
      "outputs": [
        {
          "output_type": "stream",
          "text": [
            "Hi Darshan\n"
          ],
          "name": "stdout"
        }
      ]
    },
    {
      "cell_type": "code",
      "metadata": {
        "id": "zQrIoVGUy2Lt",
        "outputId": "6ab2e7bc-085d-4170-ee45-a7740ee09a6f"
      },
      "source": [
        "print(\"I am fine. How are you\")"
      ],
      "execution_count": null,
      "outputs": [
        {
          "output_type": "stream",
          "text": [
            "I am fine. How are you\n"
          ],
          "name": "stdout"
        }
      ]
    },
    {
      "cell_type": "code",
      "metadata": {
        "id": "yr_BZ7Wty2L6",
        "outputId": "bb9b88ec-29d3-466b-c7d2-2e4b683e98cb"
      },
      "source": [
        "print(\"I am fine.nHow are you\")"
      ],
      "execution_count": null,
      "outputs": [
        {
          "output_type": "stream",
          "text": [
            "I am fine.nHow are you\n"
          ],
          "name": "stdout"
        }
      ]
    },
    {
      "cell_type": "markdown",
      "metadata": {
        "id": "p5ConHjHy2MC"
      },
      "source": [
        "Escape sequences are \n",
        "\n",
        "\\n means Newline\n",
        "\n",
        "\\t means Tab"
      ]
    },
    {
      "cell_type": "code",
      "metadata": {
        "id": "ccVkJh_py2ME",
        "outputId": "fbee937c-28e8-4028-eb83-252850ca8e93"
      },
      "source": [
        "print(\"I am fine.\\nHow are you\")"
      ],
      "execution_count": null,
      "outputs": [
        {
          "output_type": "stream",
          "text": [
            "I am fine.\n",
            "How are you\n"
          ],
          "name": "stdout"
        }
      ]
    },
    {
      "cell_type": "code",
      "metadata": {
        "id": "acfdKqhPy2MQ",
        "outputId": "b23ff712-03bd-442e-e168-8f453c7a0699"
      },
      "source": [
        "print(\"I am fine.\\tHow are you\")"
      ],
      "execution_count": null,
      "outputs": [
        {
          "output_type": "stream",
          "text": [
            "I am fine.\tHow are you\n"
          ],
          "name": "stdout"
        }
      ]
    },
    {
      "cell_type": "markdown",
      "metadata": {
        "id": "TRJgc1v-y2Mc"
      },
      "source": [
        "Program to perform addition of two numbers."
      ]
    },
    {
      "cell_type": "code",
      "metadata": {
        "id": "vfbLin6uy2Md",
        "outputId": "d4ae88cc-2c46-4c5a-8db8-2ccd2f74d79f"
      },
      "source": [
        "a = 5 # a is a Variable and 5 is a constant\n",
        "b = 3 # # b is a Variable and 3 is a constant\n",
        "c = a+b\n",
        "print(\"c\")\n",
        "print(a)\n",
        "print(b)\n",
        "print(c)"
      ],
      "execution_count": null,
      "outputs": [
        {
          "output_type": "stream",
          "text": [
            "c\n",
            "5\n",
            "3\n",
            "8\n"
          ],
          "name": "stdout"
        }
      ]
    },
    {
      "cell_type": "code",
      "metadata": {
        "id": "IRejY9SBy2Mp",
        "outputId": "f5de586d-188c-45d1-81be-a53186125345"
      },
      "source": [
        "a = 20\n",
        "b = 300\n",
        "c = a+b\n",
        "print(\"Addition of a=\",a,\"and b=\",b,\"is c=\",c)"
      ],
      "execution_count": null,
      "outputs": [
        {
          "output_type": "stream",
          "text": [
            "Addition of a= 20 and b= 300 is c= 320\n"
          ],
          "name": "stdout"
        }
      ]
    },
    {
      "cell_type": "code",
      "metadata": {
        "id": "vV61Zqedy2M0",
        "outputId": "2212b9b8-4954-44a2-d079-4d9486b28b07"
      },
      "source": [
        "a = 10\n",
        "print(a)\n",
        "print( type(a) )"
      ],
      "execution_count": null,
      "outputs": [
        {
          "output_type": "stream",
          "text": [
            "10\n",
            "<class 'int'>\n"
          ],
          "name": "stdout"
        }
      ]
    },
    {
      "cell_type": "code",
      "metadata": {
        "id": "xJ-5VekFy2M-",
        "outputId": "84cd3e3c-257f-452f-9496-32d6808308d9"
      },
      "source": [
        "type(10)"
      ],
      "execution_count": null,
      "outputs": [
        {
          "output_type": "execute_result",
          "data": {
            "text/plain": [
              "int"
            ]
          },
          "metadata": {
            "tags": []
          },
          "execution_count": 33
        }
      ]
    },
    {
      "cell_type": "code",
      "metadata": {
        "id": "Huo_oCcTy2NH",
        "outputId": "a13d2d53-5fc2-473b-8e4a-8d585021e0cf"
      },
      "source": [
        "type(2.035464)"
      ],
      "execution_count": null,
      "outputs": [
        {
          "output_type": "execute_result",
          "data": {
            "text/plain": [
              "float"
            ]
          },
          "metadata": {
            "tags": []
          },
          "execution_count": 34
        }
      ]
    },
    {
      "cell_type": "code",
      "metadata": {
        "id": "a2Rk1wwxy2NR",
        "outputId": "11de006b-454a-4e64-a6ee-4356d0fc1c79"
      },
      "source": [
        "type(-54646.1161)"
      ],
      "execution_count": null,
      "outputs": [
        {
          "output_type": "execute_result",
          "data": {
            "text/plain": [
              "float"
            ]
          },
          "metadata": {
            "tags": []
          },
          "execution_count": 35
        }
      ]
    },
    {
      "cell_type": "code",
      "metadata": {
        "id": "-BVkLOpzy2Nc",
        "outputId": "5d8d1910-fcc5-4264-8618-02a659ca16d7"
      },
      "source": [
        "type(\"Darshan\")"
      ],
      "execution_count": null,
      "outputs": [
        {
          "output_type": "execute_result",
          "data": {
            "text/plain": [
              "str"
            ]
          },
          "metadata": {
            "tags": []
          },
          "execution_count": 36
        }
      ]
    },
    {
      "cell_type": "code",
      "metadata": {
        "id": "iG7DgzA1y2Nk",
        "outputId": "938e2551-f15a-406b-fd37-2542c0927f15"
      },
      "source": [
        "type('Lets Upgrade')"
      ],
      "execution_count": null,
      "outputs": [
        {
          "output_type": "execute_result",
          "data": {
            "text/plain": [
              "str"
            ]
          },
          "metadata": {
            "tags": []
          },
          "execution_count": 37
        }
      ]
    },
    {
      "cell_type": "code",
      "metadata": {
        "id": "JQFcCl07y2Nu",
        "outputId": "af655deb-4602-4ad6-9014-4ff3e1056488"
      },
      "source": [
        "type(True)"
      ],
      "execution_count": null,
      "outputs": [
        {
          "output_type": "execute_result",
          "data": {
            "text/plain": [
              "bool"
            ]
          },
          "metadata": {
            "tags": []
          },
          "execution_count": 38
        }
      ]
    },
    {
      "cell_type": "code",
      "metadata": {
        "id": "8f4omuroy2N2",
        "outputId": "48c3a7ad-1579-4b13-92b9-9a4a2128c31f"
      },
      "source": [
        "type(False)"
      ],
      "execution_count": null,
      "outputs": [
        {
          "output_type": "execute_result",
          "data": {
            "text/plain": [
              "bool"
            ]
          },
          "metadata": {
            "tags": []
          },
          "execution_count": 39
        }
      ]
    },
    {
      "cell_type": "code",
      "metadata": {
        "id": "pGtwYjBwy2N-",
        "outputId": "b7cad372-ac2c-4c4f-867a-fa33c6dbc2d4"
      },
      "source": [
        "type(2+3j)"
      ],
      "execution_count": null,
      "outputs": [
        {
          "output_type": "execute_result",
          "data": {
            "text/plain": [
              "complex"
            ]
          },
          "metadata": {
            "tags": []
          },
          "execution_count": 40
        }
      ]
    },
    {
      "cell_type": "code",
      "metadata": {
        "id": "9WwNtXDEy2OI",
        "outputId": "c2ce4ce5-2dfa-4cbb-b206-2f588ef88ac3"
      },
      "source": [
        "a = 2+3j\n",
        "b = 5+6j\n",
        "print(a+b)"
      ],
      "execution_count": null,
      "outputs": [
        {
          "output_type": "stream",
          "text": [
            "(7+9j)\n"
          ],
          "name": "stdout"
        }
      ]
    },
    {
      "cell_type": "code",
      "metadata": {
        "id": "2k8ESybQy2OU",
        "outputId": "101ac66e-4bc4-4b39-9fcb-35a009332f04"
      },
      "source": [
        "print(\"Darshan\")"
      ],
      "execution_count": null,
      "outputs": [
        {
          "output_type": "stream",
          "text": [
            "Darshan\n"
          ],
          "name": "stdout"
        }
      ]
    },
    {
      "cell_type": "code",
      "metadata": {
        "id": "uwvuiW3Ry2Ob",
        "outputId": "fd8aaae9-272c-4d94-f186-0946dd30aa14"
      },
      "source": [
        "import keyword\n",
        "keyword.kwlist"
      ],
      "execution_count": null,
      "outputs": [
        {
          "output_type": "execute_result",
          "data": {
            "text/plain": [
              "['False',\n",
              " 'None',\n",
              " 'True',\n",
              " 'and',\n",
              " 'as',\n",
              " 'assert',\n",
              " 'async',\n",
              " 'await',\n",
              " 'break',\n",
              " 'class',\n",
              " 'continue',\n",
              " 'def',\n",
              " 'del',\n",
              " 'elif',\n",
              " 'else',\n",
              " 'except',\n",
              " 'finally',\n",
              " 'for',\n",
              " 'from',\n",
              " 'global',\n",
              " 'if',\n",
              " 'import',\n",
              " 'in',\n",
              " 'is',\n",
              " 'lambda',\n",
              " 'nonlocal',\n",
              " 'not',\n",
              " 'or',\n",
              " 'pass',\n",
              " 'raise',\n",
              " 'return',\n",
              " 'try',\n",
              " 'while',\n",
              " 'with',\n",
              " 'yield']"
            ]
          },
          "metadata": {
            "tags": []
          },
          "execution_count": 45
        }
      ]
    },
    {
      "cell_type": "code",
      "metadata": {
        "id": "u65pOX_Cy2Ok",
        "outputId": "3e12a5e9-436c-48b7-a28d-6e71a727b1ca"
      },
      "source": [
        "len(keyword.kwlist)"
      ],
      "execution_count": null,
      "outputs": [
        {
          "output_type": "execute_result",
          "data": {
            "text/plain": [
              "35"
            ]
          },
          "metadata": {
            "tags": []
          },
          "execution_count": 47
        }
      ]
    },
    {
      "cell_type": "code",
      "metadata": {
        "id": "kgd-CTlpy2Or",
        "outputId": "28650f2d-2aad-44a3-f7af-3d799c627659"
      },
      "source": [
        "print(\"while\")"
      ],
      "execution_count": null,
      "outputs": [
        {
          "output_type": "stream",
          "text": [
            "while\n"
          ],
          "name": "stdout"
        }
      ]
    },
    {
      "cell_type": "code",
      "metadata": {
        "id": "n4_pwOXdy2O5",
        "outputId": "bb4371bc-b34d-4b7e-c5b8-12e18d83c6a4"
      },
      "source": [
        "c = 45\n",
        "print(c)\n",
        "print(type(c))\n",
        "print(c)"
      ],
      "execution_count": null,
      "outputs": [
        {
          "output_type": "stream",
          "text": [
            "45\n",
            "<class 'int'>\n",
            "45\n"
          ],
          "name": "stdout"
        }
      ]
    },
    {
      "cell_type": "markdown",
      "metadata": {
        "id": "uCfL3H5hy2PE"
      },
      "source": [
        "# Operators"
      ]
    },
    {
      "cell_type": "code",
      "metadata": {
        "id": "J6URjri4y2PG",
        "outputId": "13c21f1f-3d42-4095-9366-06105effbdd2"
      },
      "source": [
        "# Arithmetic\n",
        "print(2+3)\n",
        "print(2-3)\n",
        "print(2*3)\n",
        "print(7/2)\n",
        "print(7//2) # // Floor Division - Quotient\n",
        "print(7%2) # % Modulo - Remainder"
      ],
      "execution_count": null,
      "outputs": [
        {
          "output_type": "stream",
          "text": [
            "5\n",
            "-1\n",
            "6\n",
            "3.5\n",
            "3\n",
            "1\n"
          ],
          "name": "stdout"
        }
      ]
    },
    {
      "cell_type": "code",
      "metadata": {
        "id": "WqIaqQhfy2PM",
        "outputId": "0f12609c-f829-43d4-b57e-73856d22d918"
      },
      "source": [
        "# Relational < <= > >= == !=\n",
        "print(2<3)\n",
        "print(3<1)\n",
        "print(3<=5)\n",
        "print(4==4)\n",
        "print(5==4)\n",
        "print(5!=4)"
      ],
      "execution_count": null,
      "outputs": [
        {
          "output_type": "stream",
          "text": [
            "True\n",
            "False\n",
            "True\n",
            "True\n",
            "False\n",
            "True\n"
          ],
          "name": "stdout"
        }
      ]
    },
    {
      "cell_type": "code",
      "metadata": {
        "id": "IozXjwt9y2PX",
        "outputId": "99bb5c4f-0e90-4f56-a7d8-f3f923e3359e"
      },
      "source": [
        "# Membership: in, not in\n",
        "\n",
        "'a' in \"Darshan\""
      ],
      "execution_count": null,
      "outputs": [
        {
          "output_type": "execute_result",
          "data": {
            "text/plain": [
              "True"
            ]
          },
          "metadata": {
            "tags": []
          },
          "execution_count": 64
        }
      ]
    },
    {
      "cell_type": "code",
      "metadata": {
        "id": "HFM4OsERy2Pc",
        "outputId": "c4ff2d92-da1a-4bba-dce8-9e8bd5565004"
      },
      "source": [
        "'A' in \"Darshan\""
      ],
      "execution_count": null,
      "outputs": [
        {
          "output_type": "execute_result",
          "data": {
            "text/plain": [
              "False"
            ]
          },
          "metadata": {
            "tags": []
          },
          "execution_count": 65
        }
      ]
    },
    {
      "cell_type": "code",
      "metadata": {
        "id": "LPT8x8HJy2Pk",
        "outputId": "21e6594b-2e99-4ba1-daef-e768bf2587a5"
      },
      "source": [
        "'a' not in \"Darshan\""
      ],
      "execution_count": null,
      "outputs": [
        {
          "output_type": "execute_result",
          "data": {
            "text/plain": [
              "False"
            ]
          },
          "metadata": {
            "tags": []
          },
          "execution_count": 66
        }
      ]
    },
    {
      "cell_type": "code",
      "metadata": {
        "id": "1t5MUpJay2Pt",
        "outputId": "27670418-502d-49a8-ae66-9818482a222d"
      },
      "source": [
        "22 in [10,22,33,55,12,14]"
      ],
      "execution_count": null,
      "outputs": [
        {
          "output_type": "execute_result",
          "data": {
            "text/plain": [
              "True"
            ]
          },
          "metadata": {
            "tags": []
          },
          "execution_count": 67
        }
      ]
    },
    {
      "cell_type": "code",
      "metadata": {
        "id": "Bq0h4bzTy2Pz",
        "outputId": "ee9714aa-0ddb-4ad6-c52d-74529c1fc2a3"
      },
      "source": [
        "a=5\n",
        "print(id(a)) # Address of a in RAM\n",
        "b=5\n",
        "print(id(b)) # Address of b in RAM\n",
        "b=45\n",
        "print(id(b)) # Address of b in RAM"
      ],
      "execution_count": null,
      "outputs": [
        {
          "output_type": "stream",
          "text": [
            "140715890456480\n",
            "140715890456480\n",
            "140715890457760\n"
          ],
          "name": "stdout"
        }
      ]
    },
    {
      "cell_type": "code",
      "metadata": {
        "id": "wfsSVaeiy2P6",
        "outputId": "b1b4f736-39bf-43d9-af61-e91366838835"
      },
      "source": [
        "a=5\n",
        "print(id(a)) # Address of a in RAM\n",
        "b=5\n",
        "print(id(b)) # Address of b in RAM\n",
        "b=5.0\n",
        "print(id(b)) # Address of b in RAM"
      ],
      "execution_count": null,
      "outputs": [
        {
          "output_type": "stream",
          "text": [
            "140715890456480\n",
            "140715890456480\n",
            "1656644333232\n"
          ],
          "name": "stdout"
        }
      ]
    },
    {
      "cell_type": "markdown",
      "metadata": {
        "id": "2FAq0za9y2QB"
      },
      "source": [
        "# Conditional statements:\n",
        "\n",
        "if\n",
        "\n",
        "elif\n",
        "\n",
        "else"
      ]
    },
    {
      "cell_type": "code",
      "metadata": {
        "id": "K-QQKmnDy2QD",
        "outputId": "57a8e7ac-faff-491f-c86b-a937939bcedb"
      },
      "source": [
        "x = 5\n",
        "if x==5:\n",
        "    print(\"Value of x=\",x)\n",
        "    print(\"Hi I am Dr. Darshan Ingle\")\n",
        "print(\"I am out of if statement\")"
      ],
      "execution_count": null,
      "outputs": [
        {
          "output_type": "stream",
          "text": [
            "Value of x= 5\n",
            "Hi I am Dr. Darshan Ingle\n",
            "I am out of if statement\n"
          ],
          "name": "stdout"
        }
      ]
    },
    {
      "cell_type": "code",
      "metadata": {
        "id": "A6kHxBWmy2Qq",
        "outputId": "e5390a23-8e2f-4c83-e46d-b2a8a887cccf"
      },
      "source": [
        "x = 15\n",
        "if x==5:\n",
        "    print(\"Value of x=\",x)\n",
        "    print(\"Hi I am Dr. Darshan Ingle\")\n",
        "print(\"I am out of if statement\")"
      ],
      "execution_count": null,
      "outputs": [
        {
          "output_type": "stream",
          "text": [
            "I am out of if statement\n"
          ],
          "name": "stdout"
        }
      ]
    },
    {
      "cell_type": "code",
      "metadata": {
        "id": "rff7LXMny2Qv",
        "outputId": "9c55b80c-67d7-4c94-843c-40c13787120d"
      },
      "source": [
        "# Program to check if the input number is even or odd\n",
        "x = 60\n",
        "if x%2 == 0:\n",
        "    print(x,\"is an Even Number\")\n",
        "else:\n",
        "    print(x,\"is a Odd Number\")"
      ],
      "execution_count": null,
      "outputs": [
        {
          "output_type": "stream",
          "text": [
            "60 is an Even Number\n"
          ],
          "name": "stdout"
        }
      ]
    },
    {
      "cell_type": "code",
      "metadata": {
        "id": "IgU9ipFsy2Q0",
        "outputId": "f1fdfc4f-3fee-416c-b841-f8126a92f3c4"
      },
      "source": [
        "x = 35\n",
        "if x>35:\n",
        "    print(x,\"is greater than 35\")\n",
        "elif x<35:\n",
        "    print(x,\"is less than 35\")\n",
        "else:\n",
        "    print(x,\"is equal to 35\")"
      ],
      "execution_count": null,
      "outputs": [
        {
          "output_type": "stream",
          "text": [
            "35 is equal to 35\n"
          ],
          "name": "stdout"
        }
      ]
    },
    {
      "cell_type": "code",
      "metadata": {
        "id": "8hZ-87OMy2Q6",
        "outputId": "27dc0459-649a-4e04-e151-a6ecb5add567"
      },
      "source": [
        "x = 350\n",
        "if x>35:\n",
        "    print(x,\"is greater than 35\")\n",
        "elif x<35:\n",
        "    print(x,\"is less than 35\")\n",
        "else:\n",
        "    print(x,\"is equal to 35\")"
      ],
      "execution_count": null,
      "outputs": [
        {
          "output_type": "stream",
          "text": [
            "350 is greater than 35\n"
          ],
          "name": "stdout"
        }
      ]
    },
    {
      "cell_type": "code",
      "metadata": {
        "id": "AeKlsQsRy2Q-",
        "outputId": "8b31ae1f-100e-4473-dd4d-b2858972f909"
      },
      "source": [
        "x = 3\n",
        "if x>35:\n",
        "    print(x,\"is greater than 35\")\n",
        "elif x<35:\n",
        "    print(x,\"is less than 35\")\n",
        "else:\n",
        "    print(x,\"is equal to 35\")"
      ],
      "execution_count": null,
      "outputs": [
        {
          "output_type": "stream",
          "text": [
            "3 is less than 35\n"
          ],
          "name": "stdout"
        }
      ]
    },
    {
      "cell_type": "markdown",
      "metadata": {
        "id": "4wBKQAY1y2RD"
      },
      "source": [
        "# Input Output in Python"
      ]
    },
    {
      "cell_type": "code",
      "metadata": {
        "id": "di8cU-28y2RE"
      },
      "source": [
        "x = input()\n",
        "print(\"x is\",x)"
      ],
      "execution_count": null,
      "outputs": []
    },
    {
      "cell_type": "code",
      "metadata": {
        "id": "KTHAUL9Qy2RI"
      },
      "source": [
        "x = input(\"Enter the value of x:\")\n",
        "print(\"x is\",x)"
      ],
      "execution_count": null,
      "outputs": []
    },
    {
      "cell_type": "code",
      "metadata": {
        "id": "qpUX6DaQy2RO"
      },
      "source": [
        "no1 = input(\"Enter 1st number:\")\n",
        "no2 = input(\"Enter 2nd number:\")\n",
        "add = no1 + no2\n",
        "print(\"Addition is\",add)"
      ],
      "execution_count": null,
      "outputs": []
    },
    {
      "cell_type": "code",
      "metadata": {
        "id": "zyN7xkcwy2RT"
      },
      "source": [
        "s1 = \"Darshan\"\n",
        "s2 = \" is a trainer at Lets Upgrade\"\n",
        "print(s1+s2)"
      ],
      "execution_count": null,
      "outputs": []
    },
    {
      "cell_type": "code",
      "metadata": {
        "id": "fjRAVlZ8y2Ra"
      },
      "source": [
        "s1 = \"75\"\n",
        "s2 = \"25\"\n",
        "print(s1+s2)"
      ],
      "execution_count": null,
      "outputs": []
    },
    {
      "cell_type": "code",
      "metadata": {
        "id": "aFGWQGu9y2Re"
      },
      "source": [
        "x = input(\"Enter input:\")\n",
        "print(x)\n",
        "print(type(x))"
      ],
      "execution_count": null,
      "outputs": []
    },
    {
      "cell_type": "code",
      "metadata": {
        "id": "GL2amtH4y2Ri"
      },
      "source": [
        "a = \"75\"\n",
        "print(a)\n",
        "print(type(a))\n",
        "b = int(a)\n",
        "print(b)\n",
        "print(type(b))"
      ],
      "execution_count": null,
      "outputs": []
    },
    {
      "cell_type": "code",
      "metadata": {
        "id": "-gjsGk1ky2Rn"
      },
      "source": [
        "no1 = int(input(\"Enter 1st number:\"))\n",
        "no2 = int(input(\"Enter 2nd number:\"))\n",
        "add = no1 + no2\n",
        "print(\"Addition is\",add)"
      ],
      "execution_count": null,
      "outputs": []
    },
    {
      "cell_type": "markdown",
      "metadata": {
        "id": "ugoPsMd4y2Rt"
      },
      "source": [
        "# Happy Learning"
      ]
    },
    {
      "cell_type": "markdown",
      "metadata": {
        "id": "AlO5svVay2Rv"
      },
      "source": [
        "# Day 2"
      ]
    },
    {
      "cell_type": "code",
      "metadata": {
        "id": "iRhGDODky2Rw",
        "outputId": "45bab6d6-fd2d-42c6-e46e-227a9e7860a0"
      },
      "source": [
        "l = [10,20,30,40,3.1416,2+3j,False,\"Darshan\"]\n",
        "print(l)\n",
        "print(type(l))"
      ],
      "execution_count": null,
      "outputs": [
        {
          "output_type": "stream",
          "text": [
            "[10, 20, 30, 40, 3.1416, (2+3j), False, 'Darshan']\n",
            "<class 'list'>\n"
          ],
          "name": "stdout"
        }
      ]
    },
    {
      "cell_type": "code",
      "metadata": {
        "id": "HEuDOUZsy2R4",
        "outputId": "bb2df230-76a3-46bd-ddba-e24f38074165"
      },
      "source": [
        "# Loops\n",
        "# for loop:\n",
        "\n",
        "l = [10,20,30,40]\n",
        "for i in l:\n",
        "    print(i)"
      ],
      "execution_count": null,
      "outputs": [
        {
          "output_type": "stream",
          "text": [
            "10\n",
            "20\n",
            "30\n",
            "40\n"
          ],
          "name": "stdout"
        }
      ]
    },
    {
      "cell_type": "code",
      "metadata": {
        "id": "T4-HuuQKy2R9",
        "outputId": "b54be305-35b6-4a58-9461-1416be14f958"
      },
      "source": [
        "l = [\"Darshan\",\"Ingle\",\"LetsUpgrade\"]\n",
        "for var in l:\n",
        "    print(var)"
      ],
      "execution_count": null,
      "outputs": [
        {
          "output_type": "stream",
          "text": [
            "Darshan\n",
            "Ingle\n",
            "LetsUpgrade\n"
          ],
          "name": "stdout"
        }
      ]
    },
    {
      "cell_type": "code",
      "metadata": {
        "id": "g18ah9VXy2SC",
        "outputId": "2c355e62-fd36-4d77-eeda-7ef50b4ab478"
      },
      "source": [
        "l = [\"Darshan\",\"Ingle\",\"LetsUpgrade\"]\n",
        "for _ in l:\n",
        "    print(_)"
      ],
      "execution_count": null,
      "outputs": [
        {
          "output_type": "stream",
          "text": [
            "Darshan\n",
            "Ingle\n",
            "LetsUpgrade\n"
          ],
          "name": "stdout"
        }
      ]
    },
    {
      "cell_type": "markdown",
      "metadata": {
        "id": "vw1K_AoWy2SF"
      },
      "source": [
        "# while loop\n",
        "\n",
        "SYNTAX:\n",
        "\n",
        "initialization\n",
        "while condition:\n",
        "    do this\n",
        "    do this\n",
        "    increment/decrement"
      ]
    },
    {
      "cell_type": "code",
      "metadata": {
        "id": "xY06_AtMy2SH",
        "outputId": "c42bc6d0-7aad-45d1-9b04-c960dc265fea"
      },
      "source": [
        "# Program to print numbers from 1 to 10\n",
        "\n",
        "i=1\n",
        "while i<=10:\n",
        "    print(i,end=\" \")\n",
        "    i = i+1"
      ],
      "execution_count": null,
      "outputs": [
        {
          "output_type": "stream",
          "text": [
            "1 2 3 4 5 6 7 8 9 10 "
          ],
          "name": "stdout"
        }
      ]
    },
    {
      "cell_type": "code",
      "metadata": {
        "id": "ZuczG2lwy2SN",
        "outputId": "8b418d5b-f564-43d3-9d97-a694906b3885"
      },
      "source": [
        "# Program to print numbers from 10 to 1\n",
        "\n",
        "i=10\n",
        "while i>=1:\n",
        "    print(i,end=\" \")\n",
        "    i = i-1"
      ],
      "execution_count": null,
      "outputs": [
        {
          "output_type": "stream",
          "text": [
            "10 9 8 7 6 5 4 3 2 1 "
          ],
          "name": "stdout"
        }
      ]
    },
    {
      "cell_type": "code",
      "metadata": {
        "id": "8KL9xdVOy2SV",
        "outputId": "2dc5eb12-ca25-4e1e-88e2-d28be29617be"
      },
      "source": [
        "# end attribute\n",
        "\n",
        "for i in [11,12,13,14,15]:\n",
        "    print(i,end=\" \")"
      ],
      "execution_count": null,
      "outputs": [
        {
          "output_type": "stream",
          "text": [
            "11 12 13 14 15 "
          ],
          "name": "stdout"
        }
      ]
    },
    {
      "cell_type": "code",
      "metadata": {
        "id": "P5DX_FOWy2SZ",
        "outputId": "bf1d1e6f-1eed-48c3-973b-e0ffbe84402c"
      },
      "source": [
        "# end attribute\n",
        "\n",
        "for i in [11,12,13,14,15]:\n",
        "    print(i,end=\"\\n\")"
      ],
      "execution_count": null,
      "outputs": [
        {
          "output_type": "stream",
          "text": [
            "11\n",
            "12\n",
            "13\n",
            "14\n",
            "15\n"
          ],
          "name": "stdout"
        }
      ]
    },
    {
      "cell_type": "code",
      "metadata": {
        "id": "Vo-Siy25y2Se",
        "outputId": "820a7012-6089-436f-fdec-5d25899d5141"
      },
      "source": [
        "# end attribute\n",
        "\n",
        "for i in [11,12,13,14,15]:\n",
        "    print(i)"
      ],
      "execution_count": null,
      "outputs": [
        {
          "output_type": "stream",
          "text": [
            "11\n",
            "12\n",
            "13\n",
            "14\n",
            "15\n"
          ],
          "name": "stdout"
        }
      ]
    },
    {
      "cell_type": "markdown",
      "metadata": {
        "id": "uuBq5yzry2Sh"
      },
      "source": [
        "# Functions"
      ]
    },
    {
      "cell_type": "code",
      "metadata": {
        "id": "qZIZxlzvy2Si",
        "outputId": "774a1d3e-7c51-4b52-8735-0c85307d81c2"
      },
      "source": [
        "# Built-in Functions\n",
        "\n",
        "print(\"Hello Learners\")\n",
        "print(type(\"Darshan\"))\n",
        "print(int(12.1245))\n",
        "print(float(25))\n",
        "print(pow(5,3))"
      ],
      "execution_count": null,
      "outputs": [
        {
          "output_type": "stream",
          "text": [
            "Hello Learners\n",
            "<class 'str'>\n",
            "12\n",
            "25.0\n",
            "125\n"
          ],
          "name": "stdout"
        }
      ]
    },
    {
      "cell_type": "code",
      "metadata": {
        "id": "l0Kftlzvy2Sn",
        "outputId": "7e667670-e2ce-4213-c346-1b2f9aa5ef9c"
      },
      "source": [
        "# User Defined Functions:\n",
        "\n",
        "def greet():\n",
        "    print(\"Hello\")\n",
        "    print(\"Learners of LetsUpgrade\")\n",
        "\n",
        "greet()\n",
        "print(\"Back from Function\")"
      ],
      "execution_count": null,
      "outputs": [
        {
          "output_type": "stream",
          "text": [
            "Hello\n",
            "Learners of LetsUpgrade\n",
            "Back from Function\n"
          ],
          "name": "stdout"
        }
      ]
    },
    {
      "cell_type": "code",
      "metadata": {
        "id": "G02GikSHy2Ss",
        "outputId": "c315ec9b-0db7-4931-a595-034ed978e5a1"
      },
      "source": [
        "for i in range(5):\n",
        "    greet()"
      ],
      "execution_count": null,
      "outputs": [
        {
          "output_type": "stream",
          "text": [
            "Hello\n",
            "Learners of LetsUpgrade\n",
            "Hello\n",
            "Learners of LetsUpgrade\n",
            "Hello\n",
            "Learners of LetsUpgrade\n",
            "Hello\n",
            "Learners of LetsUpgrade\n",
            "Hello\n",
            "Learners of LetsUpgrade\n"
          ],
          "name": "stdout"
        }
      ]
    },
    {
      "cell_type": "code",
      "metadata": {
        "id": "57L4aCtUy2Sx",
        "outputId": "81bdc095-7964-4991-f2a9-09dadf5794b2"
      },
      "source": [
        "for i in range(3):\n",
        "    print(i,end=\" \")"
      ],
      "execution_count": null,
      "outputs": [
        {
          "output_type": "stream",
          "text": [
            "0 1 2 "
          ],
          "name": "stdout"
        }
      ]
    },
    {
      "cell_type": "code",
      "metadata": {
        "id": "drrkUgCwy2S1",
        "outputId": "70801c25-b3b6-4d7e-d51e-42a8a336f1dd"
      },
      "source": [
        "for i in range(3,9):\n",
        "    print(i,end=\" \")"
      ],
      "execution_count": null,
      "outputs": [
        {
          "output_type": "stream",
          "text": [
            "3 4 5 6 7 8 "
          ],
          "name": "stdout"
        }
      ]
    },
    {
      "cell_type": "code",
      "metadata": {
        "id": "8SX6qcqoy2S5",
        "outputId": "14b771b8-1e01-4713-8a09-262633933181"
      },
      "source": [
        "for i in range(1,7,2):\n",
        "    print(i,end=\" \")"
      ],
      "execution_count": null,
      "outputs": [
        {
          "output_type": "stream",
          "text": [
            "1 3 5 "
          ],
          "name": "stdout"
        }
      ]
    },
    {
      "cell_type": "code",
      "metadata": {
        "id": "6HiIUoLLy2S8",
        "outputId": "42256a93-5f1e-48d8-c444-58116095788a"
      },
      "source": [
        "def mno(a):\n",
        "    print(pow(a,2))\n",
        "mno(float(input(\"Enter the number to be squared:\")))"
      ],
      "execution_count": null,
      "outputs": [
        {
          "output_type": "stream",
          "text": [
            "Enter the number to be squared:5\n",
            "25.0\n"
          ],
          "name": "stdout"
        }
      ]
    },
    {
      "cell_type": "code",
      "metadata": {
        "id": "DZmmF-L6y2S_",
        "outputId": "9b546110-e706-4532-bad0-b968a28df92f"
      },
      "source": [
        "def mno(a):\n",
        "    print(a*3)\n",
        "\n",
        "mno(5)\n",
        "mno(1.5)\n",
        "mno(\"Darshan\")\n",
        "mno([1,2,3])"
      ],
      "execution_count": null,
      "outputs": [
        {
          "output_type": "stream",
          "text": [
            "15\n",
            "4.5\n",
            "DarshanDarshanDarshan\n",
            "[1, 2, 3, 1, 2, 3, 1, 2, 3]\n"
          ],
          "name": "stdout"
        }
      ]
    },
    {
      "cell_type": "code",
      "metadata": {
        "id": "lauh_lbVy2TE",
        "outputId": "74ff210b-e206-4cac-f15a-389ae889352e"
      },
      "source": [
        "def calculator(a,b):\n",
        "    print(\"Add=\",a+b)\n",
        "    print(\"Sub=\",a-b)\n",
        "    print(\"Mul=\",a*b)\n",
        "    print(\"Div=\",a/b)\n",
        "\n",
        "a = float(input(\"Enter 1st no:\"))\n",
        "b = float(input(\"Enter 2nd no:\"))\n",
        "calculator(a,b)"
      ],
      "execution_count": null,
      "outputs": [
        {
          "output_type": "stream",
          "text": [
            "Enter 1st no:8\n",
            "Enter 2nd no:2\n",
            "Add= 10.0\n",
            "Sub= 6.0\n",
            "Mul= 16.0\n",
            "Div= 4.0\n"
          ],
          "name": "stdout"
        }
      ]
    },
    {
      "cell_type": "code",
      "metadata": {
        "id": "XY0Hzakxy2TJ",
        "outputId": "9b4cd63e-38c8-47dd-ea85-a4b35219763b"
      },
      "source": [
        "def calculator(a,b):\n",
        "    print(\"Add=\",a+b)\n",
        "    print(\"Sub=\",a-b)\n",
        "    print(\"Mul=\",a*b)\n",
        "    print(\"Div=\",a/b)\n",
        "\n",
        "calculator(float(input(\"Enter 1st no:\")),float(input(\"Enter 2nd no:\")))"
      ],
      "execution_count": null,
      "outputs": [
        {
          "output_type": "stream",
          "text": [
            "Enter 1st no:8\n",
            "Enter 2nd no:2\n",
            "Add= 10.0\n",
            "Sub= 6.0\n",
            "Mul= 16.0\n",
            "Div= 4.0\n"
          ],
          "name": "stdout"
        }
      ]
    },
    {
      "cell_type": "markdown",
      "metadata": {
        "id": "dgWPLhrvy2TN"
      },
      "source": [
        "# String"
      ]
    },
    {
      "cell_type": "code",
      "metadata": {
        "id": "vsGlSM6Jy2TP",
        "outputId": "e73572e1-5cd0-492b-e55e-3bbdc503dcca"
      },
      "source": [
        "s = \"Darshan\"\n",
        "print(s)\n",
        "print(type(s))\n",
        "# Indexing\n",
        "print(s[0])\n",
        "print(s[6])\n",
        "# print(s[9]) # Error\n",
        "print(s[-1])\n",
        "print(s[6]==s[-1])\n",
        "print(s[-3])"
      ],
      "execution_count": null,
      "outputs": [
        {
          "output_type": "stream",
          "text": [
            "Darshan\n",
            "<class 'str'>\n",
            "D\n",
            "n\n",
            "n\n",
            "True\n",
            "h\n"
          ],
          "name": "stdout"
        }
      ]
    },
    {
      "cell_type": "code",
      "metadata": {
        "id": "UqwtrXZjy2TU",
        "outputId": "1b813b8e-cf4c-4523-c4f1-2471fe139cd9"
      },
      "source": [
        "s = \"Darshan\"\n",
        "print(s)\n",
        "# Slicing\n",
        "print(s[1:5])\n",
        "print(s[1:3])\n",
        "print(s[:4])\n",
        "print(s[3:])\n",
        "print(s[-6:-2])\n",
        "print(s[:7])"
      ],
      "execution_count": null,
      "outputs": [
        {
          "output_type": "stream",
          "text": [
            "Darshan\n",
            "arsh\n",
            "ar\n",
            "Dars\n",
            "shan\n",
            "arsh\n",
            "Darshan\n"
          ],
          "name": "stdout"
        }
      ]
    },
    {
      "cell_type": "code",
      "metadata": {
        "id": "fSDQC-wVy2Te",
        "outputId": "16febff8-b7f6-45e8-9b09-82800be20465"
      },
      "source": [
        "s=\"Darshan\"\n",
        "print(s)\n",
        "print(type(s))\n",
        "# Convert String to a List - using list()\n",
        "l = list(s)\n",
        "print(l)\n",
        "print(type(l))"
      ],
      "execution_count": null,
      "outputs": [
        {
          "output_type": "stream",
          "text": [
            "Darshan\n",
            "<class 'str'>\n",
            "['D', 'a', 'r', 's', 'h', 'a', 'n']\n",
            "<class 'list'>\n"
          ],
          "name": "stdout"
        }
      ]
    },
    {
      "cell_type": "code",
      "metadata": {
        "id": "5I8g8Xrty2Ti",
        "outputId": "6ebafe62-34ab-437b-efa7-0e835ce0cd85"
      },
      "source": [
        "# List\n",
        "str1 = \"Darshan\"\n",
        "s = list(str1)\n",
        "print(s)\n",
        "print(type(s))\n",
        "# Indexing\n",
        "print(s[0])\n",
        "print(s[6])\n",
        "# print(s[9]) # Error\n",
        "print(s[-1])\n",
        "print(s[6]==s[-1])\n",
        "print(s[-3])"
      ],
      "execution_count": null,
      "outputs": [
        {
          "output_type": "stream",
          "text": [
            "['D', 'a', 'r', 's', 'h', 'a', 'n']\n",
            "<class 'list'>\n",
            "D\n",
            "n\n",
            "n\n",
            "True\n",
            "h\n"
          ],
          "name": "stdout"
        }
      ]
    },
    {
      "cell_type": "code",
      "metadata": {
        "id": "cGyUg5sNy2Tm",
        "outputId": "427e57a7-8a60-4e07-a58c-6a1adfbad5fe"
      },
      "source": [
        "# List\n",
        "str1 = \"Darshan\"\n",
        "s = list(str1)\n",
        "print(s)\n",
        "# Slicing\n",
        "print(s[1:5])\n",
        "print(s[1:3])\n",
        "print(s[:4])\n",
        "print(s[3:])\n",
        "print(s[-6:-2])\n",
        "print(s[:7])"
      ],
      "execution_count": null,
      "outputs": [
        {
          "output_type": "stream",
          "text": [
            "['D', 'a', 'r', 's', 'h', 'a', 'n']\n",
            "['a', 'r', 's', 'h']\n",
            "['a', 'r']\n",
            "['D', 'a', 'r', 's']\n",
            "['s', 'h', 'a', 'n']\n",
            "['a', 'r', 's', 'h']\n",
            "['D', 'a', 'r', 's', 'h', 'a', 'n']\n"
          ],
          "name": "stdout"
        }
      ]
    },
    {
      "cell_type": "code",
      "metadata": {
        "id": "BpSvHAzCy2Tq",
        "outputId": "bfcb2083-a4c4-4279-841c-a37e8d438c3c"
      },
      "source": [
        "# List are Mutable\n",
        "l = [1,2,3,4]\n",
        "print(l)\n",
        "print(l[0])\n",
        "l[0] = \"Darshan\"\n",
        "print(l)\n",
        "print(l[0])"
      ],
      "execution_count": null,
      "outputs": [
        {
          "output_type": "stream",
          "text": [
            "[1, 2, 3, 4]\n",
            "1\n",
            "['Darshan', 2, 3, 4]\n",
            "Darshan\n"
          ],
          "name": "stdout"
        }
      ]
    },
    {
      "cell_type": "code",
      "metadata": {
        "id": "glaQcbkny2Tu",
        "outputId": "008ef8c7-0b69-4bfb-ec99-88fa70176fa0"
      },
      "source": [
        "# Tuple are Immutable\n",
        "l = (1,2,3,4)\n",
        "print(l)\n",
        "print(l[0])\n",
        "l[0] = \"Darshan\"\n",
        "print(l)\n",
        "print(l[0])"
      ],
      "execution_count": null,
      "outputs": [
        {
          "output_type": "stream",
          "text": [
            "(1, 2, 3, 4)\n",
            "1\n"
          ],
          "name": "stdout"
        },
        {
          "output_type": "error",
          "ename": "TypeError",
          "evalue": "'tuple' object does not support item assignment",
          "traceback": [
            "\u001b[1;31m---------------------------------------------------------------------------\u001b[0m",
            "\u001b[1;31mTypeError\u001b[0m                                 Traceback (most recent call last)",
            "\u001b[1;32m<ipython-input-92-3990bca35a29>\u001b[0m in \u001b[0;36m<module>\u001b[1;34m\u001b[0m\n\u001b[0;32m      3\u001b[0m \u001b[0mprint\u001b[0m\u001b[1;33m(\u001b[0m\u001b[0ml\u001b[0m\u001b[1;33m)\u001b[0m\u001b[1;33m\u001b[0m\u001b[1;33m\u001b[0m\u001b[0m\n\u001b[0;32m      4\u001b[0m \u001b[0mprint\u001b[0m\u001b[1;33m(\u001b[0m\u001b[0ml\u001b[0m\u001b[1;33m[\u001b[0m\u001b[1;36m0\u001b[0m\u001b[1;33m]\u001b[0m\u001b[1;33m)\u001b[0m\u001b[1;33m\u001b[0m\u001b[1;33m\u001b[0m\u001b[0m\n\u001b[1;32m----> 5\u001b[1;33m \u001b[0ml\u001b[0m\u001b[1;33m[\u001b[0m\u001b[1;36m0\u001b[0m\u001b[1;33m]\u001b[0m \u001b[1;33m=\u001b[0m \u001b[1;34m\"Darshan\"\u001b[0m\u001b[1;33m\u001b[0m\u001b[1;33m\u001b[0m\u001b[0m\n\u001b[0m\u001b[0;32m      6\u001b[0m \u001b[0mprint\u001b[0m\u001b[1;33m(\u001b[0m\u001b[0ml\u001b[0m\u001b[1;33m)\u001b[0m\u001b[1;33m\u001b[0m\u001b[1;33m\u001b[0m\u001b[0m\n\u001b[0;32m      7\u001b[0m \u001b[0mprint\u001b[0m\u001b[1;33m(\u001b[0m\u001b[0ml\u001b[0m\u001b[1;33m[\u001b[0m\u001b[1;36m0\u001b[0m\u001b[1;33m]\u001b[0m\u001b[1;33m)\u001b[0m\u001b[1;33m\u001b[0m\u001b[1;33m\u001b[0m\u001b[0m\n",
            "\u001b[1;31mTypeError\u001b[0m: 'tuple' object does not support item assignment"
          ]
        }
      ]
    },
    {
      "cell_type": "code",
      "metadata": {
        "id": "HCirVQQUy2Ty",
        "outputId": "0357f21d-47a4-4cf6-8260-eaa08b311356"
      },
      "source": [
        "# String are Immutable\n",
        "s = \"Darshan\"\n",
        "print(s)\n",
        "print(s[0])\n",
        "s[1]=\"X\"\n",
        "print(s)\n",
        "print(s[0])"
      ],
      "execution_count": null,
      "outputs": [
        {
          "output_type": "stream",
          "text": [
            "Darshan\n",
            "D\n"
          ],
          "name": "stdout"
        },
        {
          "output_type": "error",
          "ename": "TypeError",
          "evalue": "'str' object does not support item assignment",
          "traceback": [
            "\u001b[1;31m---------------------------------------------------------------------------\u001b[0m",
            "\u001b[1;31mTypeError\u001b[0m                                 Traceback (most recent call last)",
            "\u001b[1;32m<ipython-input-94-08eaf740812b>\u001b[0m in \u001b[0;36m<module>\u001b[1;34m\u001b[0m\n\u001b[0;32m      3\u001b[0m \u001b[0mprint\u001b[0m\u001b[1;33m(\u001b[0m\u001b[0ms\u001b[0m\u001b[1;33m)\u001b[0m\u001b[1;33m\u001b[0m\u001b[1;33m\u001b[0m\u001b[0m\n\u001b[0;32m      4\u001b[0m \u001b[0mprint\u001b[0m\u001b[1;33m(\u001b[0m\u001b[0ms\u001b[0m\u001b[1;33m[\u001b[0m\u001b[1;36m0\u001b[0m\u001b[1;33m]\u001b[0m\u001b[1;33m)\u001b[0m\u001b[1;33m\u001b[0m\u001b[1;33m\u001b[0m\u001b[0m\n\u001b[1;32m----> 5\u001b[1;33m \u001b[0ms\u001b[0m\u001b[1;33m[\u001b[0m\u001b[1;36m1\u001b[0m\u001b[1;33m]\u001b[0m\u001b[1;33m=\u001b[0m\u001b[1;34m\"X\"\u001b[0m\u001b[1;33m\u001b[0m\u001b[1;33m\u001b[0m\u001b[0m\n\u001b[0m\u001b[0;32m      6\u001b[0m \u001b[0mprint\u001b[0m\u001b[1;33m(\u001b[0m\u001b[0ms\u001b[0m\u001b[1;33m)\u001b[0m\u001b[1;33m\u001b[0m\u001b[1;33m\u001b[0m\u001b[0m\n\u001b[0;32m      7\u001b[0m \u001b[0mprint\u001b[0m\u001b[1;33m(\u001b[0m\u001b[0ms\u001b[0m\u001b[1;33m[\u001b[0m\u001b[1;36m0\u001b[0m\u001b[1;33m]\u001b[0m\u001b[1;33m)\u001b[0m\u001b[1;33m\u001b[0m\u001b[1;33m\u001b[0m\u001b[0m\n",
            "\u001b[1;31mTypeError\u001b[0m: 'str' object does not support item assignment"
          ]
        }
      ]
    },
    {
      "cell_type": "code",
      "metadata": {
        "id": "7Jo-lmS_y2T1",
        "outputId": "c1962aae-87c2-4885-8215-2889971af773"
      },
      "source": [
        "# Tuple\n",
        "str1 = \"Darshan\"\n",
        "s = tuple(str1)\n",
        "print(s)\n",
        "print(type(s))\n",
        "# Indexing\n",
        "print(s[0])\n",
        "print(s[6])\n",
        "# print(s[9]) # Error\n",
        "print(s[-1])\n",
        "print(s[6]==s[-1])\n",
        "print(s[-3])"
      ],
      "execution_count": null,
      "outputs": [
        {
          "output_type": "stream",
          "text": [
            "('D', 'a', 'r', 's', 'h', 'a', 'n')\n",
            "<class 'tuple'>\n",
            "D\n",
            "n\n",
            "n\n",
            "True\n",
            "h\n"
          ],
          "name": "stdout"
        }
      ]
    },
    {
      "cell_type": "code",
      "metadata": {
        "id": "kdsk2DZqy2T6",
        "outputId": "07d44cdb-a724-408d-93cb-107c2a4bbb00"
      },
      "source": [
        "# Tuple\n",
        "str1 = \"Darshan\"\n",
        "s = tuple(str1)\n",
        "print(s)\n",
        "# Slicing\n",
        "print(s[1:5])\n",
        "print(s[1:3])\n",
        "print(s[:4])\n",
        "print(s[3:])\n",
        "print(s[-6:-2])\n",
        "print(s[:7])"
      ],
      "execution_count": null,
      "outputs": [
        {
          "output_type": "stream",
          "text": [
            "('D', 'a', 'r', 's', 'h', 'a', 'n')\n",
            "('a', 'r', 's', 'h')\n",
            "('a', 'r')\n",
            "('D', 'a', 'r', 's')\n",
            "('s', 'h', 'a', 'n')\n",
            "('a', 'r', 's', 'h')\n",
            "('D', 'a', 'r', 's', 'h', 'a', 'n')\n"
          ],
          "name": "stdout"
        }
      ]
    },
    {
      "cell_type": "code",
      "metadata": {
        "id": "4Dh6QKWWy2T-",
        "outputId": "b9e05bb7-414e-49d2-a7f6-b657e22a08e0"
      },
      "source": [
        "# Set - { }\n",
        "# It is unordered and unindexed\n",
        "\n",
        "s = {\"Apple\",25,\"oranges\",5.124}\n",
        "print(s)"
      ],
      "execution_count": null,
      "outputs": [
        {
          "output_type": "stream",
          "text": [
            "{25, 'Apple', 5.124, 'oranges'}\n"
          ],
          "name": "stdout"
        }
      ]
    },
    {
      "cell_type": "code",
      "metadata": {
        "id": "wBAFDHaDy2UB",
        "outputId": "0ff53763-57c3-475d-b638-6717ae4d8b32"
      },
      "source": [
        "s = {10,20,30}\n",
        "print(s)\n",
        "print(s[0])"
      ],
      "execution_count": null,
      "outputs": [
        {
          "output_type": "stream",
          "text": [
            "{10, 20, 30}\n"
          ],
          "name": "stdout"
        },
        {
          "output_type": "error",
          "ename": "TypeError",
          "evalue": "'set' object is not subscriptable",
          "traceback": [
            "\u001b[1;31m---------------------------------------------------------------------------\u001b[0m",
            "\u001b[1;31mTypeError\u001b[0m                                 Traceback (most recent call last)",
            "\u001b[1;32m<ipython-input-102-d467d9482e23>\u001b[0m in \u001b[0;36m<module>\u001b[1;34m\u001b[0m\n\u001b[0;32m      1\u001b[0m \u001b[0ms\u001b[0m \u001b[1;33m=\u001b[0m \u001b[1;33m{\u001b[0m\u001b[1;36m10\u001b[0m\u001b[1;33m,\u001b[0m\u001b[1;36m20\u001b[0m\u001b[1;33m,\u001b[0m\u001b[1;36m30\u001b[0m\u001b[1;33m}\u001b[0m\u001b[1;33m\u001b[0m\u001b[1;33m\u001b[0m\u001b[0m\n\u001b[0;32m      2\u001b[0m \u001b[0mprint\u001b[0m\u001b[1;33m(\u001b[0m\u001b[0ms\u001b[0m\u001b[1;33m)\u001b[0m\u001b[1;33m\u001b[0m\u001b[1;33m\u001b[0m\u001b[0m\n\u001b[1;32m----> 3\u001b[1;33m \u001b[0mprint\u001b[0m\u001b[1;33m(\u001b[0m\u001b[0ms\u001b[0m\u001b[1;33m[\u001b[0m\u001b[1;36m0\u001b[0m\u001b[1;33m]\u001b[0m\u001b[1;33m)\u001b[0m\u001b[1;33m\u001b[0m\u001b[1;33m\u001b[0m\u001b[0m\n\u001b[0m",
            "\u001b[1;31mTypeError\u001b[0m: 'set' object is not subscriptable"
          ]
        }
      ]
    },
    {
      "cell_type": "code",
      "metadata": {
        "id": "nh76vaNmy2UH",
        "outputId": "705ebd90-8fa9-425c-fcbd-68feeaaff485"
      },
      "source": [
        "# Dictionary : { KEY : VALUE }\n",
        "\n",
        "d = { 1 : \"COMP\" , 2 : \"EXTC\" , 3 : \"IT\" } \n",
        "print(d)\n",
        "print(type(d))\n",
        "print(d[1])\n",
        "print(d[3])"
      ],
      "execution_count": null,
      "outputs": [
        {
          "output_type": "stream",
          "text": [
            "{1: 'COMP', 2: 'EXTC', 3: 'IT'}\n",
            "<class 'dict'>\n",
            "COMP\n",
            "IT\n"
          ],
          "name": "stdout"
        }
      ]
    },
    {
      "cell_type": "code",
      "metadata": {
        "id": "zJ2ZwxC-y2UN",
        "outputId": "ffa356cd-4d21-4a4c-b1a2-70ed386fecd8"
      },
      "source": [
        "# Dictionary : { KEY : VALUE }\n",
        "\n",
        "d = { 2.23:\"Darshan\" , 12: 10.25 , \"Darshan\":125, 2655:2+3j}\n",
        "print(d)\n",
        "print(type(d))\n",
        "print(d[2.23])\n",
        "print(d[\"Darshan\"])\n",
        "print(d[2655])"
      ],
      "execution_count": null,
      "outputs": [
        {
          "output_type": "stream",
          "text": [
            "{2.23: 'Darshan', 12: 10.25, 'Darshan': 125, 2655: (2+3j)}\n",
            "<class 'dict'>\n",
            "Darshan\n",
            "125\n",
            "(2+3j)\n"
          ],
          "name": "stdout"
        }
      ]
    },
    {
      "cell_type": "code",
      "metadata": {
        "id": "Xhg0rZMWy2UT",
        "outputId": "2a62fde7-517b-4ef6-fbb2-8ff06616d8eb"
      },
      "source": [
        "d = {1:100, 2:50, 1:999}\n",
        "print(d)"
      ],
      "execution_count": null,
      "outputs": [
        {
          "output_type": "stream",
          "text": [
            "{1: 999, 2: 50}\n"
          ],
          "name": "stdout"
        }
      ]
    },
    {
      "cell_type": "code",
      "metadata": {
        "id": "yZA4cUyty2UX",
        "outputId": "5c5cd8e8-39c4-497c-bbe0-a42840b6eafc"
      },
      "source": [
        "# String Functions\n",
        "s = \"dArShaN\"\n",
        "t = \"an APple a Day Keeps the DoctoR awaY\"\n",
        "print(t.capitalize())\n",
        "print(s.lower())\n",
        "print(s.upper())\n",
        "print(s.swapcase())\n",
        "s1=\"Darshan\"\n",
        "print(s1.replace('a','x'))\n",
        "print(s1.replace('a','x',1))"
      ],
      "execution_count": null,
      "outputs": [
        {
          "output_type": "stream",
          "text": [
            "An apple a day keeps the doctor away\n",
            "darshan\n",
            "DARSHAN\n",
            "DaRsHAn\n",
            "Dxrshxn\n",
            "Dxrshan\n"
          ],
          "name": "stdout"
        }
      ]
    },
    {
      "cell_type": "code",
      "metadata": {
        "id": "AD5VV-b3y2Ua",
        "outputId": "9db45c7f-ba3e-48e9-af09-dc78d98775ee"
      },
      "source": [
        "# List Functions\n",
        "\n",
        "l = [1,2,3,4,5]\n",
        "print(l)\n",
        "l.append(\"Darshan\")\n",
        "print(l)\n",
        "l.append(\"Ingle\")\n",
        "print(l)\n",
        "l.extend([100,200,\"Lets Upgrade\", \"Learners\"])\n",
        "print(l)"
      ],
      "execution_count": null,
      "outputs": [
        {
          "output_type": "stream",
          "text": [
            "[1, 2, 3, 4, 5]\n",
            "[1, 2, 3, 4, 5, 'Darshan']\n",
            "[1, 2, 3, 4, 5, 'Darshan', 'Ingle']\n",
            "[1, 2, 3, 4, 5, 'Darshan', 'Ingle', 100, 200, 'Lets Upgrade', 'Learners']\n"
          ],
          "name": "stdout"
        }
      ]
    },
    {
      "cell_type": "code",
      "metadata": {
        "id": "ONXcNIs6y2Ud",
        "outputId": "c8d888d0-3a9f-4da6-f5ae-ad8805b4a8bc"
      },
      "source": [
        "l = [5,1,8,4,7,2]\n",
        "print(l)\n",
        "l.sort()\n",
        "print(l)"
      ],
      "execution_count": null,
      "outputs": [
        {
          "output_type": "stream",
          "text": [
            "[5, 1, 8, 4, 7, 2]\n",
            "[1, 2, 4, 5, 7, 8]\n"
          ],
          "name": "stdout"
        }
      ]
    },
    {
      "cell_type": "code",
      "metadata": {
        "id": "bdF0N4Fry2Uh",
        "outputId": "85e77278-b9ef-471f-99ba-2e4c5bf4e2ff"
      },
      "source": [
        "l = [5,1,8,4,7,2]\n",
        "print(l)\n",
        "l.sort(reverse=True)\n",
        "print(l)\n",
        "l.reverse()\n",
        "print(l)"
      ],
      "execution_count": null,
      "outputs": [
        {
          "output_type": "stream",
          "text": [
            "[5, 1, 8, 4, 7, 2]\n",
            "[8, 7, 5, 4, 2, 1]\n",
            "[1, 2, 4, 5, 7, 8]\n"
          ],
          "name": "stdout"
        }
      ]
    },
    {
      "cell_type": "code",
      "metadata": {
        "id": "AXbZtEe_y2Um",
        "outputId": "347dc059-0130-42a5-950d-5e87d6c24aa0"
      },
      "source": [
        "l = [1,2,3,5]\n",
        "print(l)\n",
        "l.insert(3,\"Darshan\")\n",
        "print(l)"
      ],
      "execution_count": null,
      "outputs": [
        {
          "output_type": "stream",
          "text": [
            "[1, 2, 3, 5]\n",
            "[1, 2, 3, 'Darshan', 5]\n"
          ],
          "name": "stdout"
        }
      ]
    },
    {
      "cell_type": "code",
      "metadata": {
        "id": "8AvycTq8y2Up",
        "outputId": "e8d12efb-1537-42fd-d288-a38a9946bfac"
      },
      "source": [
        "# Tuple\n",
        "t = (1,6,5,3)\n",
        "print(len(t))\n",
        "print(max(t))\n",
        "print(min(t))"
      ],
      "execution_count": null,
      "outputs": [
        {
          "output_type": "stream",
          "text": [
            "4\n",
            "6\n",
            "1\n"
          ],
          "name": "stdout"
        }
      ]
    },
    {
      "cell_type": "code",
      "metadata": {
        "id": "CHJPP892y2Uu",
        "outputId": "eb87623e-c846-41e1-f1ca-370fab78ac19"
      },
      "source": [
        "# Set\n",
        "\n",
        "s = {\"apple\",\"banana\",\"cherry\"}\n",
        "for i in s:\n",
        "    print(i)"
      ],
      "execution_count": null,
      "outputs": [
        {
          "output_type": "stream",
          "text": [
            "banana\n",
            "cherry\n",
            "apple\n"
          ],
          "name": "stdout"
        }
      ]
    },
    {
      "cell_type": "code",
      "metadata": {
        "id": "QalKDrJ6y2U1",
        "outputId": "87c49c6a-f40d-4f3b-957e-7764e3208d2f"
      },
      "source": [
        "s = {\"apple\",\"banana\",\"cherry\"}\n",
        "print(\"banana\" in s)\n",
        "print(\"oranges\" in s)\n",
        "s.add(\"oranges\")\n",
        "print(s)\n",
        "print(\"oranges\" in s)\n",
        "s.update([\"mangoes\",\"watermelon\",\"papaya\"])\n",
        "print(s)\n",
        "print(len(s))\n",
        "s.remove(\"mangoes\")\n",
        "print(s)\n",
        "s.add(\"watermelon\")\n",
        "print(s)"
      ],
      "execution_count": null,
      "outputs": [
        {
          "output_type": "stream",
          "text": [
            "True\n",
            "False\n",
            "{'banana', 'cherry', 'apple', 'oranges'}\n",
            "True\n",
            "{'banana', 'mangoes', 'apple', 'watermelon', 'papaya', 'cherry', 'oranges'}\n",
            "7\n",
            "{'banana', 'apple', 'watermelon', 'papaya', 'cherry', 'oranges'}\n",
            "{'banana', 'apple', 'watermelon', 'papaya', 'cherry', 'oranges'}\n"
          ],
          "name": "stdout"
        }
      ]
    },
    {
      "cell_type": "code",
      "metadata": {
        "id": "fMY2afKoy2U9",
        "outputId": "a8b3fd15-6cf6-41fb-cbe0-9cab2cf63ef8"
      },
      "source": [
        "# Dictionary Functions\n",
        "\n",
        "d = {1:\"COMP\" , 2:\"IT\", 3:\"EXTC\"}\n",
        "print(d)\n",
        "print(type(d))\n",
        "print(str(d))\n",
        "print(type(str(d)))\n",
        "print(d.keys())\n",
        "print(type(d.keys()))\n",
        "print(list(d.keys()))\n",
        "print(d.values())\n",
        "print(d)\n",
        "del d[1]\n",
        "print(d)\n",
        "d.clear()\n",
        "print(d)"
      ],
      "execution_count": null,
      "outputs": [
        {
          "output_type": "stream",
          "text": [
            "{1: 'COMP', 2: 'IT', 3: 'EXTC'}\n",
            "<class 'dict'>\n",
            "{1: 'COMP', 2: 'IT', 3: 'EXTC'}\n",
            "<class 'str'>\n",
            "dict_keys([1, 2, 3])\n",
            "<class 'dict_keys'>\n",
            "[1, 2, 3]\n",
            "dict_values(['COMP', 'IT', 'EXTC'])\n",
            "{1: 'COMP', 2: 'IT', 3: 'EXTC'}\n",
            "{2: 'IT', 3: 'EXTC'}\n",
            "{}\n"
          ],
          "name": "stdout"
        }
      ]
    },
    {
      "cell_type": "code",
      "metadata": {
        "id": "xbsjB57my2VA",
        "outputId": "fe89e07a-e56f-455f-8d51-9ace0455cfda"
      },
      "source": [
        "d1 = {1: 'COMP', 2: 'IT', 3: 'EXTC'}\n",
        "d2 = {4:\"BIOTECH\"}\n",
        "print(d1)\n",
        "print(d2)\n",
        "d1.update(d2)\n",
        "print(d1)\n",
        "print(d2)"
      ],
      "execution_count": null,
      "outputs": [
        {
          "output_type": "stream",
          "text": [
            "{1: 'COMP', 2: 'IT', 3: 'EXTC'}\n",
            "{4: 'BIOTECH'}\n",
            "{1: 'COMP', 2: 'IT', 3: 'EXTC', 4: 'BIOTECH'}\n",
            "{4: 'BIOTECH'}\n"
          ],
          "name": "stdout"
        }
      ]
    },
    {
      "cell_type": "markdown",
      "metadata": {
        "id": "ndE0ElA_y2VD"
      },
      "source": [
        "# Happy Learning"
      ]
    }
  ]
}